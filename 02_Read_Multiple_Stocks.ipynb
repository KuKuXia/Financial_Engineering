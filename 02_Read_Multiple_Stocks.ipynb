{
 "cells": [
  {
   "cell_type": "markdown",
   "metadata": {},
   "source": [
    "# Multiple Stocks"
   ]
  },
  {
   "cell_type": "markdown",
   "metadata": {},
   "source": [
    "将多只股票数据读取到一个 dataframe 中需要：\n",
    "\n",
    "-使用 pandas.date_range 指定一组日期\n",
    "\n",
    "    创建一个空的 dataframe，并用日期表示索引\n",
    "        这样有助于匹配股票数据并且按照交易日期排序\n",
    "    读取一个参考股票（例如 SPY），并使用 pandas.DataFrame.dropna 删除非交易日期\n",
    "    -使用 pandas.DataFrame.join 渐进地连接dataframe\n",
    "\n",
    "读取多只股票后，你可以：\n",
    "\n",
    "    按照股票代号选择股票子集\n",
    "    按照行（日期）和列（代号）进行切片\n",
    "    同时绘制多只股票的图形（依然使用 pandas.DataFrame.plot）\n",
    "    对多只股票进行算术运算，例如按照第一天的股价标准化数据\n"
   ]
  },
  {
   "cell_type": "code",
   "execution_count": 1,
   "metadata": {},
   "outputs": [
    {
     "name": "stdout",
     "output_type": "stream",
     "text": [
      "DatetimeIndex(['2010-01-22', '2010-01-23', '2010-01-24', '2010-01-25',\n",
      "               '2010-01-26'],\n",
      "              dtype='datetime64[ns]', freq='D')\n"
     ]
    }
   ],
   "source": [
    "import pandas as pd\n",
    "\n",
    "# Define date range\n",
    "start_date ='2010-01-22'\n",
    "end_date = '2010-01-26'\n",
    "dates = pd.date_range(start_date,end_date)\n",
    "print(dates)"
   ]
  },
  {
   "cell_type": "code",
   "execution_count": 2,
   "metadata": {},
   "outputs": [
    {
     "name": "stdout",
     "output_type": "stream",
     "text": [
      "2010-01-22 00:00:00\n"
     ]
    }
   ],
   "source": [
    "print(dates[0])"
   ]
  },
  {
   "cell_type": "code",
   "execution_count": 3,
   "metadata": {},
   "outputs": [],
   "source": [
    "# Create an empty dataframe\n",
    "df1 = pd.DataFrame(index=dates)"
   ]
  },
  {
   "cell_type": "code",
   "execution_count": 4,
   "metadata": {},
   "outputs": [
    {
     "name": "stdout",
     "output_type": "stream",
     "text": [
      "                  SPY\n",
      "Date                 \n",
      "1993-01-29  26.836645\n",
      "1993-02-01  27.027504\n",
      "1993-02-02  27.084740\n",
      "1993-02-03  27.371080\n",
      "1993-02-04  27.485609\n"
     ]
    }
   ],
   "source": [
    "# Read SPY data into temporary dataframe\n",
    "dfSPY = pd.read_csv(\"Data/SPY.csv\", index_col=\"Date\", parse_dates=True, usecols=['Date','Adj Close'], na_values=['nan'])\n",
    "\n",
    "# Rename 'Adj Close' column to 'SPY' to prevent clash\n",
    "dfSPY = dfSPY.rename(columns={'Adj Close': 'SPY'})\n",
    "print(dfSPY.head())"
   ]
  },
  {
   "cell_type": "code",
   "execution_count": 5,
   "metadata": {},
   "outputs": [
    {
     "name": "stdout",
     "output_type": "stream",
     "text": [
      "                  SPY\n",
      "2010-01-22  90.708870\n",
      "2010-01-25  91.173965\n",
      "2010-01-26  90.791885\n"
     ]
    }
   ],
   "source": [
    "# Join the two dataframes using DataFrame.join()\n",
    "df1 = df1.join(dfSPY, how='inner')\n",
    "print(df1)"
   ]
  },
  {
   "cell_type": "code",
   "execution_count": 6,
   "metadata": {},
   "outputs": [
    {
     "name": "stdout",
     "output_type": "stream",
     "text": [
      "                  SPY        GOOG        IBM       AAPL         GLD\n",
      "2010-01-22  90.708870  273.227905  94.088844  18.837185  107.169998\n",
      "2010-01-25  91.173965  268.255249  94.553688  19.343958  107.480003\n",
      "2010-01-26  90.791885  269.457428  94.276276  19.617346  107.559998\n"
     ]
    }
   ],
   "source": [
    "## Read in more stocks\n",
    "symbols = ['GOOG', 'IBM', 'AAPL', 'GLD']\n",
    "for symbol in symbols:\n",
    "    df_temp = pd.read_csv(\"Data/{}.csv\".format(symbol), index_col='Date', parse_dates=True, usecols=['Date', 'Adj Close'], na_values=['nan'])\n",
    "    df_temp = df_temp.rename(columns={'Adj Close': symbol})\n",
    "    df1 = df1.join(df_temp)\n",
    "print(df1)"
   ]
  },
  {
   "cell_type": "markdown",
   "metadata": {},
   "source": [
    "## Useful Functions"
   ]
  },
  {
   "cell_type": "code",
   "execution_count": 7,
   "metadata": {},
   "outputs": [
    {
     "name": "stdout",
     "output_type": "stream",
     "text": [
      "                  SPY        GOOG        IBM       AAPL         GLD\n",
      "2010-01-04  94.130867  311.349976  99.299347  20.386072  109.800003\n",
      "2010-01-05  94.380074  309.978882  98.099792  20.421322  109.699997\n",
      "2010-01-06  94.446495  302.164703  97.462532  20.096491  111.510002\n",
      "2010-01-07  94.845207  295.130463  97.125160  20.059338  110.820000\n",
      "2010-01-08  95.160805  299.064880  98.099792  20.192701  111.370003\n",
      "                   SPY        GOOG         IBM       AAPL         GLD\n",
      "2012-12-24  125.814247  352.457611  152.007126  52.757809  160.619995\n",
      "2012-12-26  125.283943  352.144653  151.651642  52.030602  160.779999\n",
      "2012-12-27  125.115967  350.862976  152.252060  52.239540  161.160004\n",
      "2012-12-28  123.763733  347.743256  149.976685  51.684753  160.539993\n",
      "2012-12-31  125.867302  351.404449  151.335571  53.974899  162.020004\n"
     ]
    }
   ],
   "source": [
    "import os\n",
    "import pandas as pd\n",
    "import matplotlib.pyplot as plt\n",
    "# Define date range\n",
    "start_date ='2010-01-01'\n",
    "end_date = '2012-12-31'\n",
    "dates = pd.date_range(start_date,end_date)\n",
    "\n",
    "def symbol_to_path(symbol, base_dir='Data'):\n",
    "    \"\"\"Return CSV file path given ticker symbol.\"\"\"\n",
    "    return os.path.join(base_dir, \"{}.csv\".format(str(symbol)))\n",
    "\n",
    "def get_data(symbols, dates):\n",
    "    \"\"\"Read stock data (adjusted close) for given symbols from CSV files.\"\"\"\n",
    "    df = pd.DataFrame(index=dates)\n",
    "    if 'SPY' not in symbols:  # add SPY for reference. if absent \n",
    "        symbols.insert(0, 'SPY')\n",
    "        \n",
    "    for symbol in symbols:\n",
    "        df_temp = pd.read_csv(symbol_to_path(symbol), index_col='Date', parse_dates=True, usecols=['Date', 'Adj Close'], na_values=['nan'])\n",
    "        df_temp = df_temp.rename(columns={'Adj Close': symbol})\n",
    "        df = df.join(df_temp)\n",
    "        if symbol == 'SPY':\n",
    "            df = df.dropna(subset=['SPY'])\n",
    "    return df\n",
    "\n",
    "def plot_data(df, title=\"Stock prices\"):\n",
    "    \"\"\"Plot stock prices with a custom title and meaningful axis labels.\"\"\"\n",
    "    ax = df.plot(title=title, fontsize=12)\n",
    "    ax.set_xlabel(\"Date\")\n",
    "    ax.set_ylabel(\"Price\")\n",
    "    plt.show()\n",
    "\n",
    "symbols = ['GOOG', 'IBM', 'AAPL', 'GLD']\n",
    "data = get_data(symbols,dates)\n",
    "print(data.head())\n",
    "print(data.tail())"
   ]
  },
  {
   "cell_type": "markdown",
   "metadata": {},
   "source": [
    "## Choose Data using Slicing"
   ]
  },
  {
   "cell_type": "code",
   "execution_count": 8,
   "metadata": {},
   "outputs": [
    {
     "name": "stdout",
     "output_type": "stream",
     "text": [
      "                  SPY        GOOG         IBM       AAPL         GLD\n",
      "2010-01-04  94.130867  311.349976   99.299347  20.386072  109.800003\n",
      "2010-01-05  94.380074  309.978882   98.099792  20.421322  109.699997\n",
      "2010-01-06  94.446495  302.164703   97.462532  20.096491  111.510002\n",
      "2010-01-07  94.845207  295.130463   97.125160  20.059338  110.820000\n",
      "2010-01-08  95.160805  299.064880   98.099792  20.192701  111.370003\n",
      "2010-01-11  95.293701  298.612823   97.072685  20.014568  112.849998\n",
      "2010-01-12  94.404961  293.332153   97.844872  19.786903  110.489998\n",
      "2010-01-13  95.202347  291.648102   97.634964  20.066006  111.540001\n",
      "2010-01-14  95.459831  293.019196   99.194389  19.949797  112.029999\n",
      "2010-01-15  94.388382  288.126007   98.797028  19.616390  110.860001\n",
      "2010-01-19  95.567795  291.911407  100.566330  20.484186  111.519997\n",
      "2010-01-20  94.596008  288.329681   97.649979  20.168890  108.940002\n",
      "2010-01-21  92.777000  289.606384   96.712860  19.820242  107.370003\n",
      "2010-01-22  90.708870  273.227905   94.088844  18.837185  107.169998\n",
      "2010-01-25  91.173965  268.255249   94.553688  19.343958  107.480003\n",
      "2010-01-26  90.791885  269.457428   94.276276  19.617346  107.559998\n",
      "2010-01-27  91.223801  269.298462   94.711105  19.802147  106.529999\n",
      "2010-01-28  90.177261  265.418701   92.776848  18.983883  106.480003\n",
      "2010-01-29  89.197174  263.257751   91.757233  18.295170  105.959999\n"
     ]
    }
   ],
   "source": [
    "print(data.loc['2010-01-01':'2010-01-31'])"
   ]
  },
  {
   "cell_type": "code",
   "execution_count": 9,
   "metadata": {},
   "outputs": [
    {
     "name": "stdout",
     "output_type": "stream",
     "text": [
      "2012-12-24    352.457611\n",
      "2012-12-26    352.144653\n",
      "2012-12-27    350.862976\n",
      "2012-12-28    347.743256\n",
      "2012-12-31    351.404449\n",
      "Name: GOOG, dtype: float64\n",
      "                   IBM         GLD\n",
      "2012-12-24  152.007126  160.619995\n",
      "2012-12-26  151.651642  160.779999\n",
      "2012-12-27  152.252060  161.160004\n",
      "2012-12-28  149.976685  160.539993\n",
      "2012-12-31  151.335571  162.020004\n"
     ]
    }
   ],
   "source": [
    "print(data['GOOG'].tail())\n",
    "print(data[['IBM', 'GLD']].tail())"
   ]
  },
  {
   "cell_type": "markdown",
   "metadata": {},
   "source": [
    "## Plot Data"
   ]
  },
  {
   "cell_type": "code",
   "execution_count": 20,
   "metadata": {},
   "outputs": [
    {
     "data": {
      "image/png": "[encoded data removed]",
      "text/plain": [
       "<Figure size 432x288 with 1 Axes>"
      ]
     },
     "metadata": {
      "needs_background": "light"
     },
     "output_type": "display_data"
    }
   ],
   "source": [
    "def plot_selected(df, columns, start_index, end_index):\n",
    "    \"\"\"Plot the desired columns over index values in the given range.\"\"\"\n",
    "    # TODO: Your code here\n",
    "    # Note: DO NOT modify anything else!    \n",
    "    plot_data(df.loc[start_index:end_index, columns],title=\"Selected Data\")\n",
    "    \n",
    "def normalize_data(df):\n",
    "    return df/df.iloc[0,:]\n",
    "plot_selected(normalize_data(data), ['SPY', 'IBM'], '2010-03-01', '2010-04-01')"
   ]
  }
 ],
 "metadata": {
  "kernelspec": {
   "display_name": "Python 3",
   "language": "python",
   "name": "python3"
  },
  "language_info": {
   "codemirror_mode": {
    "name": "ipython",
    "version": 3
   },
   "file_extension": ".py",
   "mimetype": "text/x-python",
   "name": "python",
   "nbconvert_exporter": "python",
   "pygments_lexer": "ipython3",
   "version": "3.7.3"
  }
 },
 "nbformat": 4,
 "nbformat_minor": 2
}
