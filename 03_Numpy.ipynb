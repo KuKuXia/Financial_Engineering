{
 "cells": [
  {
   "cell_type": "markdown",
   "metadata": {},
   "source": [
    "# Numpy Basics\n",
    "---\n",
    "- 创建 NumPy 数组：\n",
    "    - 通过 dataframe：pandas.DataFrame.values\n",
    "    - 通过 Python 序列：numpy.array\n",
    "    - 使用常量初始值：numpy.ones、numpy.zeros\n",
    "    - 使用随机值：numpy.random\n",
    "- 访问数组属性：shape、ndim、size、dtype\n",
    "- 计算统计值：sum、min、max、mean\n",
    "- 进行算术运算：add、subtract、multiply、divide\n",
    "- 衡量执行时间：time.time、profile\n",
    "- 操纵数组元素：使用简单的索引和切片、整数数组、布尔型数组\n"
   ]
  },
  {
   "cell_type": "code",
   "execution_count": 3,
   "metadata": {
    "pycharm": {
     "is_executing": false
    }
   },
   "outputs": [
    {
     "name": "stdout",
     "text": [
      "[[2 3 4]\n [5 6 7]]\n[1.39716487e-311 1.39718919e-311 1.39716940e-311 9.66174105e-315\n 1.39716603e-311]\n[[0. 0. 0.]\n [0. 0. 0.]\n [0. 0. 0.]\n [0. 0. 0.]\n [0. 0. 0.]]\n[[1. 1. 1.]\n [1. 1. 1.]\n [1. 1. 1.]\n [1. 1. 1.]\n [1. 1. 1.]]\n"
     ],
     "output_type": "stream"
    }
   ],
   "source": [
    "import numpy as np\n",
    "\n",
    "# Array\n",
    "print(np.array([(2,3,4), (5,6,7)]))\n",
    "print(np.empty(5))\n",
    "print(np.zeros((5,3), dtype=np.float_))\n",
    "print(np.ones((5,3)))"
   ]
  },
  {
   "cell_type": "markdown",
   "metadata": {},
   "source": [
    "## Random functions\n",
    "\n",
    "- numpy.random.random：从范围为 [0.0, 1.0) 的均匀分布中抽样\n",
    "- numpy.random.rand：与 random 相似，但是语法有所不同\n",
    "- numpy.random.normal：正态或高斯分布\n",
    "- numpy.random.randint：整数来自均匀分布\n"
   ]
  },
  {
   "cell_type": "code",
   "execution_count": 4,
   "metadata": {
    "pycharm": {
     "is_executing": false
    }
   },
   "outputs": [
    {
     "name": "stdout",
     "text": [
      "[[0.69644337 0.88891619 0.54776307 0.89595466]\n [0.13743521 0.06549335 0.3582576  0.93210058]\n [0.36999407 0.42452879 0.53058181 0.37107721]\n [0.91321629 0.09798039 0.48698688 0.0853557 ]\n [0.183963   0.91459903 0.5941312  0.03791784]]\n[[0.89442571 0.36707454 0.25388651 0.70571736]\n [0.29391278 0.14669698 0.77860858 0.79152787]\n [0.38503043 0.78908741 0.86884039 0.03193832]\n [0.76515813 0.85116279 0.24843349 0.65618367]\n [0.12282487 0.3317606  0.29181202 0.88206798]]\n[[40.28812672 62.31102436 39.04089493]\n [48.73033481 47.21695268 60.77641675]]\n6\n5\n[1 7 6 9 8]\n[[5 8 3]\n [2 2 8]]\n"
     ],
     "output_type": "stream"
    }
   ],
   "source": [
    "# Generate an array full of random numbers, uniformly sampled from [0.0, 1.0] \n",
    "print(np.random.random((5,4)))  # function arguments is a tuple\n",
    "print(np.random.rand(5,4))  # function arguments is not a tuple\n",
    "\n",
    "# Sample numbers from a Gaussian (normal) distribution\n",
    "print(np.random.normal(50,10, size=(2,3))) # mean: 50, std: 10\n",
    "\n",
    "# Random Integers\n",
    "print(np.random.randint(10)) # a single integer in [0.10).\n",
    "print(np.random.randint(0,10)) # same as above, specifiying [low, high) explicit.\n",
    "print(np.random.randint(0,10,size=5)) # 5 random integers as a 1D array.\n",
    "print(np.random.randint(0,10,size=(2,3))) # 2*3 array of random integers."
   ]
  },
  {
   "cell_type": "markdown",
   "metadata": {},
   "source": [
    "## Numpy.ndarray Property\n",
    "- numpy.ndarray.shape：维度（高、宽…）\n",
    "- numpy.ndarray.ndim：维数 = len(shape)\n",
    "- numpy.ndarray.size：元素总数\n",
    "- numpy.ndarray.dtype：数据类型\n"
   ]
  },
  {
   "cell_type": "markdown",
   "metadata": {},
   "source": [
    "## Numpy.ndarray Math Function\n",
    "- numpy.sum：行、列或整个数组的元素之和\n",
    "- numpy.min、numpy.max、numpy.mean：简单统计数据\n",
    "- numpy.random.seed 可以设置（重置）随机数生成器。"
   ]
  },
  {
   "cell_type": "code",
   "execution_count": 10,
   "metadata": {
    "pycharm": {
     "is_executing": false
    }
   },
   "outputs": [
    {
     "name": "stdout",
     "text": [
      "[[2 0 5]\n [1 1 3]\n [4 4 9]\n [2 9 1]\n [9 3 7]]\n(5, 3)\n15\n2\n[ 7  5 17 12 19]\n[0 1 4 1 3]\n[5 3 9 9 9]\n[18 17 25]\n[1 0 1]\n[9 9 9]\n"
     ],
     "output_type": "stream"
    }
   ],
   "source": [
    "import numpy as np\n",
    "\n",
    "np.random.seed(693)\n",
    "a = np.random.randint(0,10, size=(5,3))\n",
    "print(a)\n",
    "print(a.shape)\n",
    "print(a.size)\n",
    "print(a.ndim)\n",
    "print(a.sum(axis=1))\n",
    "print(a.min(axis=1))\n",
    "print(a.max(axis=1))\n",
    "print(a.sum(axis=0))\n",
    "print(a.min(axis=0))\n",
    "print(a.max(axis=0))\n"
   ]
  },
  {
   "cell_type": "markdown",
   "source": [
    "## Numpy.ndarray Max index\n"
   ],
   "metadata": {
    "collapsed": false
   }
  },
  {
   "cell_type": "code",
   "execution_count": 14,
   "outputs": [
    {
     "name": "stdout",
     "text": [
      "Array:  [ 9  6  2  3 12 14  7 10]\nMax is: 14\nMax index:  5\n"
     ],
     "output_type": "stream"
    }
   ],
   "source": [
    "a = np.array([9, 6, 2, 3, 12, 14, 7, 10], dtype=np.int32)  # 32-bit integer array\n",
    "print(\"Array: \", a)\n",
    "print(\"Max is:\", a.max())\n",
    "print(\"Max index: \", a.argmax())"
   ],
   "metadata": {
    "collapsed": false,
    "pycharm": {
     "name": "#%%\n",
     "is_executing": false
    }
   }
  },
  {
   "cell_type": "code",
   "execution_count": null,
   "outputs": [],
   "source": [],
   "metadata": {
    "collapsed": false,
    "pycharm": {
     "name": "#%%\n"
    }
   }
  },
  {
   "cell_type": "markdown",
   "source": [
    "## Record Exectuion Time\n",
    "\n",
    "- time.time：当前时间（浮点值，以秒计）\n",
    "- timeit：衡量平均执行时间\n",
    "- profile：分析代码\n",
    "\n",
    "iPython“魔法函数”：\n",
    "\n",
    "- %time：运行一次的时间\n",
    "- %timeit：多次运行的平均时间\n",
    "- %prun/%lprun：分析每个函数/每行代码\n"
   ],
   "metadata": {
    "collapsed": false,
    "pycharm": {
     "name": "#%% md\n"
    }
   }
  },
  {
   "cell_type": "code",
   "execution_count": 1,
   "outputs": [
    {
     "name": "stdout",
     "text": [
      "hello\nTime elapsed:  0.0\n"
     ],
     "output_type": "stream"
    }
   ],
   "source": [
    "import time\n",
    "t1 = time.time()\n",
    "print(\"hello\")\n",
    "print(\"Time elapsed: \" , time.time()-t1)\n"
   ],
   "metadata": {
    "collapsed": false,
    "pycharm": {
     "name": "#%%\n",
     "is_executing": false
    }
   }
  },
  {
   "cell_type": "markdown",
   "source": [
    "## Indexing \n",
    "表达式 a < mean 会生成一个布尔型数组，例如：\n",
    "\n",
    "```python\n",
    "[[False, False, True, False, False, False, True, True, True],\n",
    " [True, True, False, False, True, True, False, True, True]]\n",
    "```\n",
    "\n",
    "使用上述数组对数组 a 设定索引时，只有值为 True 的位置才会选中，并且这些值将添加到列表中。\n"
   ],
   "metadata": {
    "collapsed": false,
    "pycharm": {
     "name": "#%% md\n"
    }
   }
  },
  {
   "cell_type": "markdown",
   "source": [
    "NumPy 参考文档：算术运算\n",
    "-    numpy.add：元素级加法，与 + 运算符相同\n",
    "-    numpy.subtract：元素级减法，与 - 相同\n",
    "-    numpy.multiply：元素级乘法，与 * 相同\n",
    "-    numpy.divide：元素级除法，与 / 相同\n",
    "-    numpy.dot：点积（一维数组）、矩阵乘法（二维数组）\n",
    "\n",
    "注意：数组相互之间必须兼容，才能进行这些运算（请参阅：广播）。\n",
    "\n"
   ],
   "metadata": {
    "collapsed": false,
    "pycharm": {
     "name": "#%% md\n"
    }
   }
  }
 ],
 "metadata": {
  "kernelspec": {
   "display_name": "Python 3",
   "language": "python",
   "name": "python3"
  },
  "language_info": {
   "codemirror_mode": {
    "name": "ipython",
    "version": 3
   },
   "file_extension": ".py",
   "mimetype": "text/x-python",
   "name": "python",
   "nbconvert_exporter": "python",
   "pygments_lexer": "ipython3",
   "version": "3.7.3"
  },
  "pycharm": {
   "stem_cell": {
    "cell_type": "raw",
    "source": [],
    "metadata": {
     "collapsed": false
    }
   }
  }
 },
 "nbformat": 4,
 "nbformat_minor": 2
}