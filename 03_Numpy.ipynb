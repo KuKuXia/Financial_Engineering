{
 "cells": [
  {
   "cell_type": "markdown",
   "metadata": {},
   "source": [
    "# Numpy\n",
    "---\n",
    "- 创建 NumPy 数组：\n",
    "    - 通过 dataframe：pandas.DataFrame.values\n",
    "    - 通过 Python 序列：numpy.array\n",
    "    - 使用常量初始值：numpy.ones、numpy.zeros\n",
    "    - 使用随机值：numpy.random\n",
    "- 访问数组属性：shape、ndim、size、dtype\n",
    "- 计算统计值：sum、min、max、mean\n",
    "- 进行算术运算：add、subtract、multiply、divide\n",
    "- 衡量执行时间：time.time、profile\n",
    "- 操纵数组元素：使用简单的索引和切片、整数数组、布尔型数组\n"
   ]
  },
  {
   "cell_type": "code",
   "execution_count": 17,
   "metadata": {},
   "outputs": [
    {
     "name": "stdout",
     "output_type": "stream",
     "text": [
      "[[2 3 4]\n",
      " [5 6 7]]\n",
      "[4.0e-323 4.0e-323 4.0e-323 3.0e-323 3.5e-323]\n",
      "[[0. 0. 0.]\n",
      " [0. 0. 0.]\n",
      " [0. 0. 0.]\n",
      " [0. 0. 0.]\n",
      " [0. 0. 0.]]\n",
      "[[1. 1. 1.]\n",
      " [1. 1. 1.]\n",
      " [1. 1. 1.]\n",
      " [1. 1. 1.]\n",
      " [1. 1. 1.]]\n"
     ]
    }
   ],
   "source": [
    "import numpy as np\n",
    "\n",
    "# Array\n",
    "print(np.array([(2,3,4), (5,6,7)]))\n",
    "print(np.empty(5))\n",
    "print(np.zeros((5,3), dtype=np.float_))\n",
    "print(np.ones((5,3)))"
   ]
  },
  {
   "cell_type": "markdown",
   "metadata": {},
   "source": [
    "## Random functions\n",
    "\n",
    "- numpy.random.random：从范围为 [0.0, 1.0) 的均匀分布中抽样\n",
    "- numpy.random.rand：与 random 相似，但是语法有所不同\n",
    "- numpy.random.normal：正态或高斯分布\n",
    "- numpy.random.randint：整数来自均匀分布\n"
   ]
  },
  {
   "cell_type": "code",
   "execution_count": 21,
   "metadata": {},
   "outputs": [
    {
     "name": "stdout",
     "output_type": "stream",
     "text": [
      "[[0.1229821  0.4570553  0.48826977 0.23819149]\n",
      " [0.52598825 0.8464826  0.74861028 0.0374242 ]\n",
      " [0.92671146 0.76910865 0.62771074 0.73228147]\n",
      " [0.16956415 0.37682219 0.64555493 0.8481747 ]\n",
      " [0.91264059 0.66087306 0.34062062 0.93897751]]\n",
      "[[0.98842249 0.69220931 0.69900917 0.19204272]\n",
      " [0.37874478 0.71584169 0.3620873  0.38159081]\n",
      " [0.21945143 0.57643217 0.48952388 0.43039382]\n",
      " [0.86203378 0.67087957 0.67709459 0.11760238]\n",
      " [0.93596295 0.69289291 0.12688465 0.43814822]]\n",
      "[[37.01296316 47.60601374 57.87336446]\n",
      " [57.98137346 37.87974201 45.18050092]]\n",
      "6\n",
      "3\n",
      "[5 5 4 1 8]\n",
      "[[7 5 8]\n",
      " [9 0 7]]\n"
     ]
    }
   ],
   "source": [
    "# Generate an array full of random numbers, uniformly sampled from [0.0, 1.0] \n",
    "print(np.random.random((5,4)))  # function arguments is a tuple\n",
    "print(np.random.rand(5,4))  # function arguments is not a tuple\n",
    "\n",
    "# Sample numbers from a Gaussian (normal) distribution\n",
    "print(np.random.normal(50,10, size=(2,3))) # mean: 50, std: 10\n",
    "\n",
    "# Random Integers\n",
    "print(np.random.randint(10)) # a single integer in [0.10).\n",
    "print(np.random.randint(0,10)) # same as above, specifiying [low, high) explicit.\n",
    "print(np.random.randint(0,10,size=5)) # 5 random integers as a 1D array.\n",
    "print(np.random.randint(0,10,size=(2,3))) # 2*3 array of random integers."
   ]
  },
  {
   "cell_type": "markdown",
   "metadata": {},
   "source": [
    "## Numpy.ndarray Property\n",
    "- numpy.ndarray.shape：维度（高、宽…）\n",
    "- numpy.ndarray.ndim：维数 = len(shape)\n",
    "- numpy.ndarray.size：元素总数\n",
    "- numpy.ndarray.dtype：数据类型\n"
   ]
  },
  {
   "cell_type": "markdown",
   "metadata": {},
   "source": [
    "## Numpy.ndarray Math Function\n",
    "- numpy.sum：行、列或整个数组的元素之和\n",
    "- numpy.min、numpy.max、numpy.mean：简单统计数据\n",
    "- numpy.random.seed 可以设置（重置）随机数生成器。"
   ]
  },
  {
   "cell_type": "code",
   "execution_count": 4,
   "metadata": {},
   "outputs": [
    {
     "name": "stdout",
     "output_type": "stream",
     "text": [
      "[[2 0 5]\n",
      " [1 1 3]\n",
      " [4 4 9]\n",
      " [2 9 1]\n",
      " [9 3 7]]\n",
      "(5, 3)\n",
      "15\n",
      "2\n",
      "<built-in method sum of numpy.ndarray object at 0x7fdbba56f760>\n"
     ]
    }
   ],
   "source": [
    "import numpy as np\n",
    "\n",
    "np.random.seed(693)\n",
    "a = np.random.randint(0,10, size=(5,3))\n",
    "print(a)\n",
    "print(a.shape)\n",
    "print(a.size)\n",
    "print(a.ndim)\n",
    "print(a.sum)"
   ]
  },
  {
   "cell_type": "code",
   "execution_count": null,
   "metadata": {},
   "outputs": [],
   "source": []
  }
 ],
 "metadata": {
  "kernelspec": {
   "display_name": "Python 3",
   "language": "python",
   "name": "python3"
  },
  "language_info": {
   "codemirror_mode": {
    "name": "ipython",
    "version": 3
   },
   "file_extension": ".py",
   "mimetype": "text/x-python",
   "name": "python",
   "nbconvert_exporter": "python",
   "pygments_lexer": "ipython3",
   "version": "3.7.3"
  }
 },
 "nbformat": 4,
 "nbformat_minor": 2
}
