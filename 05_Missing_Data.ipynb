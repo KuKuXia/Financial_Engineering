{
 "cells": [
  {
   "cell_type": "markdown",
   "metadata": {
    "collapsed": true,
    "pycharm": {
     "name": "#%% md\n"
    }
   },
   "source": [
    "# Missing Data\n",
    "---\n",
    "交易所交易基金 (ETF) 涵盖各种股票，整个投资组合能够跟踪某个股票交易指数的绩效。ETF 可以像股票一样在市场上买入和卖出。\n",
    "\n",
    "例如，SPY 会跟踪 S&P 500 指数（标准普尔 500 家大型上市公司）。\n",
    "## 解决方案\n",
    "1. Fill Forward\n",
    "2. Fill Backward\n",
    "```python\n",
    "df_data.fillna(method=\"ffill\", inplace=True)\n",
    "df_data.fillna(method=\"bfill\", inplace=True)\n",
    "```\n",
    "\n"
   ]
  }
 ],
 "metadata": {
  "language_info": {
   "codemirror_mode": {
    "name": "ipython",
    "version": 2
   },
   "file_extension": ".py",
   "mimetype": "text/x-python",
   "name": "python",
   "nbconvert_exporter": "python",
   "pygments_lexer": "ipython2",
   "version": "2.7.6"
  },
  "kernelspec": {
   "name": "python3",
   "language": "python",
   "display_name": "Python 3"
  },
  "pycharm": {
   "stem_cell": {
    "cell_type": "raw",
    "source": [],
    "metadata": {
     "collapsed": false
    }
   }
  }
 },
 "nbformat": 4,
 "nbformat_minor": 0
}